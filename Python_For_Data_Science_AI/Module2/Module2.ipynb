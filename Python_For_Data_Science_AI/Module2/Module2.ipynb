{
 "cells": [
  {
   "cell_type": "code",
   "id": "initial_id",
   "metadata": {
    "collapsed": true,
    "ExecuteTime": {
     "end_time": "2025-05-23T18:47:52.048975Z",
     "start_time": "2025-05-23T18:47:52.040409Z"
    }
   },
   "source": [
    "{'key1':1, 'key2':'hi','key3':(1,2,'hi'),\"key4\":[32,43]}\n",
    "DICT = {'key1':1, 'key2':'hi','key3':(1,2,'hi'),\"key4\":[32,43]}\n",
    "DICT['new_key1']:3434343\n",
    "DICT['new_key'] = 'new key broo'\n",
    "del(DICT['key1'])\n",
    "print(DICT)\n",
    "print('key1' in DICT)\n",
    "print(DICT.keys())\n",
    "print(DICT.values())\n"
   ],
   "outputs": [
    {
     "name": "stdout",
     "output_type": "stream",
     "text": [
      "{'key2': 'hi', 'key3': (1, 2, 'hi'), 'key4': [32, 43], 'new_key': 'new key broo'}\n",
      "False\n",
      "dict_keys(['key2', 'key3', 'key4', 'new_key'])\n",
      "dict_values(['hi', (1, 2, 'hi'), [32, 43], 'new key broo'])\n"
     ]
    }
   ],
   "execution_count": 15
  },
  {
   "metadata": {
    "ExecuteTime": {
     "end_time": "2025-05-23T18:52:04.601687Z",
     "start_time": "2025-05-23T18:52:04.593583Z"
    }
   },
   "cell_type": "code",
   "source": [
    "DICT = {'key1':1,\"key2\":[34.344,34,'er'],('key3'):5, (0,1):6}\n",
    "DICT\n",
    "DICT['key1']\n",
    "DICT[(0,1)]"
   ],
   "id": "fbb4087defed287a",
   "outputs": [
    {
     "data": {
      "text/plain": [
       "6"
      ]
     },
     "execution_count": 19,
     "metadata": {},
     "output_type": "execute_result"
    }
   ],
   "execution_count": 19
  },
  {
   "metadata": {
    "ExecuteTime": {
     "end_time": "2025-05-23T19:21:41.424113Z",
     "start_time": "2025-05-23T19:21:41.413550Z"
    }
   },
   "cell_type": "code",
   "source": [
    "# Create a sample dictionary\n",
    "\n",
    "release_year_dict = {\"Thriller\": \"1982\", \"Back in Black\": \"1980\", \\\n",
    "                    \"The Dark Side of the Moon\": \"1973\", \"The Bodyguard\": \"1992\", \\\n",
    "                    \"Bat Out of Hell\": \"1977\", \"Their Greatest Hits (1971-1975)\": \"1976\", \\\n",
    "                    \"Saturday Night Fever\": \"1977\", \"Rumours\": \"1977\"}\n",
    "release_year_dict\n",
    "release_year_dict['Back in Black']\n",
    "release_year_dict.keys()\n",
    "release_year_dict.values()\n",
    "release_year_dict['new_entery'] = '2004'\n",
    "release_year_dict\n",
    "del(release_year_dict['Thriller'])\n",
    "'someone' in release_year_dict\n",
    "list(DICT.keys())"
   ],
   "id": "bfa6f546dc4651db",
   "outputs": [
    {
     "data": {
      "text/plain": [
       "['key1', 'key2', 'key3', (0, 1)]"
      ]
     },
     "execution_count": 26,
     "metadata": {},
     "output_type": "execute_result"
    }
   ],
   "execution_count": 26
  },
  {
   "metadata": {
    "ExecuteTime": {
     "end_time": "2025-05-23T19:49:01.570055Z",
     "start_time": "2025-05-23T19:49:01.559050Z"
    }
   },
   "cell_type": "code",
   "source": [
    "set1 = {'a','b','aa','a','c', 'aa','gg','ggwp'}\n",
    "set1\n",
    "set1.add('hi')\n",
    "set1.remove('a')\n",
    "set1\n",
    "set2 = {'a','idk','why','aa'}\n",
    "set3 = set1 & set2#intersection of set\n",
    "set3\n",
    "set4 = set1.union(set2) #union of 2 set\n",
    "set4\n",
    "#checking if subset\n",
    "set3.issubset(set2)\n",
    "set4.issubset(set2)\n",
    "set2.difference(set1)\n",
    "set1.intersection(set2)\n",
    "set1.union(set2)\n",
    "set2.issuperset(set1)"
   ],
   "id": "a9d66d20c05fed0c",
   "outputs": [
    {
     "data": {
      "text/plain": [
       "False"
      ]
     },
     "execution_count": 39,
     "metadata": {},
     "output_type": "execute_result"
    }
   ],
   "execution_count": 39
  },
  {
   "metadata": {},
   "cell_type": "code",
   "outputs": [],
   "execution_count": null,
   "source": "",
   "id": "c3ea948225ef7380"
  }
 ],
 "metadata": {
  "kernelspec": {
   "display_name": "Python 3",
   "language": "python",
   "name": "python3"
  },
  "language_info": {
   "codemirror_mode": {
    "name": "ipython",
    "version": 2
   },
   "file_extension": ".py",
   "mimetype": "text/x-python",
   "name": "python",
   "nbconvert_exporter": "python",
   "pygments_lexer": "ipython2",
   "version": "2.7.6"
  }
 },
 "nbformat": 4,
 "nbformat_minor": 5
}
