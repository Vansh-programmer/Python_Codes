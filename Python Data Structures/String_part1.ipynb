{
 "cells": [
  {
   "cell_type": "markdown",
   "id": "b9ad67b1",
   "metadata": {},
   "source": [
    "Looking Inside String"
   ]
  },
  {
   "cell_type": "code",
   "execution_count": null,
   "id": "a5f23119",
   "metadata": {},
   "outputs": [],
   "source": [
    "fruit = 'banana'\n",
    "letter = fruit[0]\n",
    "print(letter)\n",
    "y = 3\n",
    "x = fruit[y-1]\n",
    "print(x , '\\n')\n",
    "#error if attempted beyond index traceback\n",
    "\n",
    "#Len Function gives us the length of a string\n",
    "\n",
    "print(len(fruit) , '\\n')\n",
    "\n",
    "#Looping through strings\n",
    "\n",
    "index = 0\n",
    "while index < len(fruit):\n",
    "    letter = fruit[index]\n",
    "    print(index,letter)\n",
    "    index+=1\n",
    "\n",
    "\n"
   ]
  },
  {
   "cell_type": "code",
   "execution_count": null,
   "id": "c765b408",
   "metadata": {},
   "outputs": [],
   "source": [
    "#Looping Through strings\n",
    "fruit = 'banana'\n",
    "\n",
    "for letter in fruit:\n",
    "    print(letter)"
   ]
  },
  {
   "cell_type": "markdown",
   "id": "db347103",
   "metadata": {},
   "source": [
    "Looping and Counting"
   ]
  },
  {
   "cell_type": "code",
   "execution_count": 7,
   "id": "6ee59a50",
   "metadata": {},
   "outputs": [
    {
     "name": "stdout",
     "output_type": "stream",
     "text": [
      "3 a\n"
     ]
    }
   ],
   "source": [
    "#This is a simple loop that loops through each letter in a string \n",
    "#and  counts the number of times the loop encounters the 'a' character\n",
    "\n",
    "word = 'banana'\n",
    "count = 0\n",
    "for letter in word:\n",
    "    if letter == 'a':\n",
    "        count+=1\n",
    "\n",
    "print(count , 'a')"
   ]
  },
  {
   "cell_type": "markdown",
   "id": "8a85cd31",
   "metadata": {},
   "source": [
    "Slicing Strings"
   ]
  },
  {
   "cell_type": "code",
   "execution_count": 9,
   "id": "e2bd741c",
   "metadata": {},
   "outputs": [
    {
     "name": "stdout",
     "output_type": "stream",
     "text": [
      "Vans\n",
      "V\n",
      "ansh Poonia\n",
      "Va\n",
      "ansh Poonia\n",
      "Vansh Poonia\n"
     ]
    }
   ],
   "source": [
    "name = 'Vansh Poonia'\n",
    "print(name[0:4])#not include 4\n",
    "print(name[0:1])#not include 1 but includes 0\n",
    "print(name[1:25])#No error\n",
    "\n",
    "#If we leave off the first number  or the last number of the slice, it is assumed to be the beginning or end of the string respectively\n",
    "print(name[:2])\n",
    "print(name[1:])\n",
    "print(name[:])"
   ]
  }
 ],
 "metadata": {
  "kernelspec": {
   "display_name": "Python 3",
   "language": "python",
   "name": "python3"
  },
  "language_info": {
   "codemirror_mode": {
    "name": "ipython",
    "version": 3
   },
   "file_extension": ".py",
   "mimetype": "text/x-python",
   "name": "python",
   "nbconvert_exporter": "python",
   "pygments_lexer": "ipython3",
   "version": "3.13.3"
  }
 },
 "nbformat": 4,
 "nbformat_minor": 5
}
