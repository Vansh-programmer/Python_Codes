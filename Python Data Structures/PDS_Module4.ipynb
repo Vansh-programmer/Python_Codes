{
 "cells": [
  {
   "cell_type": "markdown",
   "id": "49b9cf5e",
   "metadata": {},
   "source": [
    "# Lists\n",
    "### A list is a kind of Collection\n",
    "* A <font color = 'yellow'>collection</font> allows us to put many values in a single 'variable'\n",
    "* A <font color = 'yellow'>collection</font> is nice b/c we can carry many values around in one convenient package.\n",
    "\n",
    "<code>friends = ['vansh','pratibha','tanu','kusum']<code> "
   ]
  },
  {
   "cell_type": "markdown",
   "id": "bf5197d0",
   "metadata": {},
   "source": [
    "## List Constants\n",
    "* <font color ='orange'> List </font> constants are surrounded by square brackets and the elements in the list are separated by commas\n",
    "* A <font color ='orange'> List </font> element can be any Python object - even <font color ='cyan'> another list </font>\n",
    "* A <font color ='orange'> List </font> can be empty"
   ]
  },
  {
   "cell_type": "code",
   "execution_count": 3,
   "id": "767a5d27",
   "metadata": {},
   "outputs": [
    {
     "name": "stdout",
     "output_type": "stream",
     "text": [
      "['vansh', 'pratiba', 20, 21, 1.5, ['tanu', 'kusum', 1.5]]\n",
      "[]\n"
     ]
    }
   ],
   "source": [
    "print(['vansh', 'pratiba' , 20 , 21 , 1.5 , ['tanu','kusum' , 1.5]])\n",
    "print([])#empty list\n"
   ]
  },
  {
   "cell_type": "markdown",
   "id": "b5c96fcd",
   "metadata": {},
   "source": [
    "## Lists and Definite Loops"
   ]
  },
  {
   "cell_type": "code",
   "execution_count": 4,
   "id": "9c065fe7",
   "metadata": {},
   "outputs": [
    {
     "name": "stdout",
     "output_type": "stream",
     "text": [
      "Happy New Year: golu\n",
      "Happy New Year: mami\n",
      "Happy New Year: papa\n"
     ]
    }
   ],
   "source": [
    "friends = ['golu','mami','papa']\n",
    "for xyz in friends :\n",
    "    print('Happy New Year:',xyz)"
   ]
  },
  {
   "cell_type": "markdown",
   "id": "ec72b718",
   "metadata": {},
   "source": [
    "## Looking Inside Lists\n",
    "Just like strings , we can get at any single element in a list using an index specified in <font color = 'cyan'>square brackets</font>"
   ]
  },
  {
   "cell_type": "code",
   "execution_count": 5,
   "id": "ae16a246",
   "metadata": {},
   "outputs": [
    {
     "name": "stdout",
     "output_type": "stream",
     "text": [
      "mami\n"
     ]
    }
   ],
   "source": [
    "friends = ['golu','mami','papa']\n",
    "print(friends[1])"
   ]
  },
  {
   "cell_type": "markdown",
   "id": "477fe118",
   "metadata": {},
   "source": [
    "## Lists Are Mutable\n",
    "* Strings are <font color = 'green'>immutable</font> -we cannot change the contents of a string - we must make a new string to make any change\n",
    "* Lists are <font color = 'green'>mutable</font> - we can <font color = 'pink'>change</font> element of a list using the <font color = 'cyan'>index</font> operator"
   ]
  },
  {
   "cell_type": "code",
   "execution_count": 6,
   "id": "a63d90a2",
   "metadata": {},
   "outputs": [
    {
     "ename": "TypeError",
     "evalue": "'str' object does not support item assignment",
     "output_type": "error",
     "traceback": [
      "\u001b[31m---------------------------------------------------------------------------\u001b[39m",
      "\u001b[31mTypeError\u001b[39m                                 Traceback (most recent call last)",
      "\u001b[36mCell\u001b[39m\u001b[36m \u001b[39m\u001b[32mIn[6]\u001b[39m\u001b[32m, line 2\u001b[39m\n\u001b[32m      1\u001b[39m fruit = \u001b[33m'\u001b[39m\u001b[33mapple\u001b[39m\u001b[33m'\u001b[39m\n\u001b[32m----> \u001b[39m\u001b[32m2\u001b[39m \u001b[43mfruit\u001b[49m\u001b[43m[\u001b[49m\u001b[32;43m0\u001b[39;49m\u001b[43m]\u001b[49m = \u001b[33m'\u001b[39m\u001b[33mbanana\u001b[39m\u001b[33m'\u001b[39m\n",
      "\u001b[31mTypeError\u001b[39m: 'str' object does not support item assignment"
     ]
    }
   ],
   "source": [
    "fruit = 'apple'\n",
    "fruit[0] = 'banana'\n"
   ]
  },
  {
   "cell_type": "code",
   "execution_count": 11,
   "id": "84824f1c",
   "metadata": {},
   "outputs": [
    {
     "name": "stdout",
     "output_type": "stream",
     "text": [
      "apple\n",
      "['one', 2, 3, 4, 5, 6, 7, 8]\n"
     ]
    }
   ],
   "source": [
    "fruit = 'Apple'\n",
    "x = fruit.lower() #makes copy not change string\n",
    "print(x)\n",
    "\n",
    "num_list = [1,2,3,4,5,6,7,8]\n",
    "num_list[0] = 'one'\n",
    "print(num_list)"
   ]
  },
  {
   "cell_type": "markdown",
   "id": "2daa7857",
   "metadata": {},
   "source": [
    "## How Long is a List ?\n",
    "* The <font color = 'pink'>len()</font> function takes a list as a parameter and returns the number of <font color = 'cyan'>elements</font> in the list\n",
    "\n",
    "* Actually <font color = 'pink'>len()</font> tells us the number of elments of any set or sequence (such as a string ...)"
   ]
  },
  {
   "cell_type": "code",
   "execution_count": 12,
   "id": "7f7a71a5",
   "metadata": {},
   "outputs": [
    {
     "name": "stdout",
     "output_type": "stream",
     "text": [
      "5\n",
      "4\n"
     ]
    }
   ],
   "source": [
    "greet = 'vansh'\n",
    "print(len(greet))\n",
    "x = [1,2,'vansh',323.43]\n",
    "print(len(x))"
   ]
  },
  {
   "cell_type": "markdown",
   "id": "d6698b1d",
   "metadata": {},
   "source": [
    "### Using the <font color = 'purple'>Range</font> Function\n",
    "*The range function returns a list of numbers that range from zero to one less than the parameter\n",
    "\n",
    "* We can contruct an index loop using for and an integer iterator"
   ]
  },
  {
   "cell_type": "code",
   "execution_count": 16,
   "id": "1aa29b0a",
   "metadata": {},
   "outputs": [
    {
     "name": "stdout",
     "output_type": "stream",
     "text": [
      "range(0, 4)\n",
      "8\n",
      "[0, 1, 2, 3, 4, 5, 6, 7]\n",
      "range(0, 8)\n"
     ]
    }
   ],
   "source": [
    "print(range(4))\n",
    "xyz = ['edf','dfd',24,24,45,535,23,32]\n",
    "print(len(xyz))\n",
    "print(list(range(len(xyz))))\n",
    "print((range(len(xyz))))"
   ]
  }
 ],
 "metadata": {
  "kernelspec": {
   "display_name": "Python 3",
   "language": "python",
   "name": "python3"
  },
  "language_info": {
   "codemirror_mode": {
    "name": "ipython",
    "version": 3
   },
   "file_extension": ".py",
   "mimetype": "text/x-python",
   "name": "python",
   "nbconvert_exporter": "python",
   "pygments_lexer": "ipython3",
   "version": "3.13.3"
  }
 },
 "nbformat": 4,
 "nbformat_minor": 5
}
