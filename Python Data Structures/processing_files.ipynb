{
 "cells": [
  {
   "cell_type": "markdown",
   "id": "f215d335bb13762f",
   "metadata": {},
   "source": [
    "# Processing Files"
   ]
  },
  {
   "cell_type": "markdown",
   "id": "f63a05dda5823616",
   "metadata": {},
   "source": [
    "## File Handling as a Sequence\n",
    "<code>xfile = open('mbox.text)\n",
    "for cheese in xfile:\n",
    "    print(cheese)<code>\n",
    "* A 'file handle' open for read can be treated as a sequence of strings where each line in the file is a string in the sequence\n",
    "* We can use the for statement to iterate through a sequence\n",
    "* Remember - a sequence is an ordered set"
   ]
  },
  {
   "cell_type": "markdown",
   "id": "ddc911d4384ee9b4",
   "metadata": {},
   "source": [
    "## Couting Lines in a File\n",
    "* Opem a file read-only\n",
    "* Use a for loop to read each line\n",
    "* Count the lines and print out the numbers of line"
   ]
  },
  {
   "cell_type": "code",
   "execution_count": 1,
   "id": "80941117ecf3e516",
   "metadata": {
    "ExecuteTime": {
     "end_time": "2025-05-07T19:38:28.624338Z",
     "start_time": "2025-05-07T19:38:28.613503Z"
    }
   },
   "outputs": [
    {
     "name": "stdout",
     "output_type": "stream",
     "text": [
      "Line Count:  4\n"
     ]
    }
   ],
   "source": [
    "#File line counter\n",
    "fhand = open('mbox.txt')\n",
    "count = 0\n",
    "for line in fhand:\n",
    "    count+=1\n",
    "print('Line Count: ',count)"
   ]
  },
  {
   "cell_type": "markdown",
   "id": "889e36d1a36839e7",
   "metadata": {},
   "source": [
    "## Reading the * Whole * File\n",
    "* we can read the whole file(newline and all) into a single string"
   ]
  },
  {
   "cell_type": "code",
   "execution_count": 3,
   "id": "1f4a403927097adc",
   "metadata": {
    "ExecuteTime": {
     "end_time": "2025-05-07T19:41:38.284997Z",
     "start_time": "2025-05-07T19:41:38.276078Z"
    }
   },
   "outputs": [
    {
     "name": "stdout",
     "output_type": "stream",
     "text": [
      "37\n",
      "hi my name is vansh\n",
      "\n"
     ]
    }
   ],
   "source": [
    "fhand = open('mbox.txt')\n",
    "inp = fhand.read()\n",
    "print(len(inp))\n",
    "print(inp[:20])"
   ]
  },
  {
   "cell_type": "markdown",
   "id": "6a119903cc1527f9",
   "metadata": {},
   "source": [
    "## Searching Through a File\n",
    "We can put an if statement in our for loop to only print lines that meet some criteria"
   ]
  },
  {
   "cell_type": "code",
   "execution_count": 10,
   "id": "755a3f4718aacff6",
   "metadata": {
    "ExecuteTime": {
     "end_time": "2025-05-07T19:46:41.313871Z",
     "start_time": "2025-05-07T19:46:41.302075Z"
    }
   },
   "outputs": [
    {
     "name": "stdout",
     "output_type": "stream",
     "text": [
      "hi my name is vansh\n",
      "\n",
      "Ram Ram\n",
      "\n"
     ]
    }
   ],
   "source": [
    "fhand = open('mbox.txt')\n",
    "for line in fhand:\n",
    "    if line.startswith('Ram'):\n",
    "        print(line)\n",
    "    if line.startswith('hi'):\n",
    "        print(line)"
   ]
  },
  {
   "cell_type": "markdown",
   "id": "6e34848bc1796130",
   "metadata": {},
   "source": [
    "### OOPS!\n",
    "what are these blanks lines doing in above code\n",
    "* Each line from the file has a newline at the end\n",
    "* The print statement adds a newline to each line\n",
    "\n",
    "## Searching Throwgh a File (fixed)\n",
    "* We can strip the whitespace from the right-hand side of the string using rstrip() from the string library\n",
    "* The newline is considered \"white space\" is stripped"
   ]
  },
  {
   "cell_type": "code",
   "execution_count": 12,
   "id": "b4685645df5e7c38",
   "metadata": {
    "ExecuteTime": {
     "end_time": "2025-05-07T19:52:20.610869Z",
     "start_time": "2025-05-07T19:52:20.600617Z"
    }
   },
   "outputs": [
    {
     "name": "stdout",
     "output_type": "stream",
     "text": [
      "hi my name is vansh\n",
      "Ram Ram\n"
     ]
    }
   ],
   "source": [
    "fhand = open('mbox.txt')\n",
    "for line in fhand:\n",
    "    line = line.rstrip()\n",
    "    if line.startswith('hi'):\n",
    "        print(line)\n",
    "    if line.startswith('Ram'):\n",
    "        print(line)"
   ]
  },
  {
   "cell_type": "markdown",
   "id": "e0e2ce209f204936",
   "metadata": {},
   "source": [
    "### Skipping with Continue\n",
    "We can conveniently skip a line by using the continue statement"
   ]
  },
  {
   "cell_type": "code",
   "execution_count": 15,
   "id": "abc31a13b3e137dd",
   "metadata": {
    "ExecuteTime": {
     "end_time": "2025-05-07T19:57:25.075810Z",
     "start_time": "2025-05-07T19:57:25.065544Z"
    }
   },
   "outputs": [
    {
     "name": "stdout",
     "output_type": "stream",
     "text": [
      "hi my name is vansh\n"
     ]
    }
   ],
   "source": [
    "fhand = open('mbox.txt')\n",
    "for line in fhand:\n",
    "    line = line.rstrip()\n",
    "    if not line.startswith('hi'):\n",
    "        continue #this will skip the lines we not inrested in and go to the top of loop and start from there\n",
    "    print(line)"
   ]
  },
  {
   "cell_type": "markdown",
   "id": "cc8600fdb118bb0c",
   "metadata": {},
   "source": [
    "## Using 'in' to Select lines\n",
    "We can look for a string anywhere in a line as our selection criteria"
   ]
  },
  {
   "cell_type": "code",
   "execution_count": 21,
   "id": "b70ebc157a52bd99",
   "metadata": {
    "ExecuteTime": {
     "end_time": "2025-05-07T20:03:10.057155Z",
     "start_time": "2025-05-07T20:03:10.046313Z"
    }
   },
   "outputs": [
    {
     "name": "stdout",
     "output_type": "stream",
     "text": [
      "vansh.poonia@avantika.edu.in\n"
     ]
    }
   ],
   "source": [
    "fhand = open('mbox.txt')\n",
    "#print(fhand)\n",
    "#print(fhand.read())\n",
    "      #ignore above lines\n",
    "for line in fhand:\n",
    "    line = line.rstrip()\n",
    "    if not 'avantika' in line:\n",
    "        continue\n",
    "    print(line)\n"
   ]
  },
  {
   "cell_type": "markdown",
   "id": "7442ae3fd542aec6",
   "metadata": {},
   "source": [
    "## Bad File Names\n"
   ]
  },
  {
   "cell_type": "code",
   "execution_count": 3,
   "id": "b0031daa9e74d60f",
   "metadata": {
    "ExecuteTime": {
     "end_time": "2025-05-07T20:21:54.697034Z",
     "start_time": "2025-05-07T20:21:43.933255Z"
    }
   },
   "outputs": [
    {
     "name": "stdout",
     "output_type": "stream",
     "text": [
      "There were 1 hi lines in mbox.txt\n"
     ]
    }
   ],
   "source": [
    "fname =  input('Enter the file name: ')\n",
    "try:\n",
    "    fhand = open(fname)\n",
    "except:\n",
    "    print('File cannot be opened:',fname)\n",
    "    quit()#quit()- not work in IDLE and jupyter notebook\n",
    "\n",
    "count =0\n",
    "for line in fhand:\n",
    "    if line.startswith('hi'):\n",
    "        count+=1\n",
    "print('There were',count,'hi lines in',fname)"
   ]
  },
  {
   "cell_type": "markdown",
   "id": "a03fbe4f7684fe36",
   "metadata": {},
   "source": [
    "# Summary\n",
    "* Secondary storage\n",
    "* Opening a file - file handle\n",
    "* File structure - newline character\n",
    "* Reading a file line by l ine with a for loop\n",
    "* Searching for lines\n",
    "* Reading file names\n",
    "* Dealing with bad files"
   ]
  }
 ],
 "metadata": {
  "kernelspec": {
   "display_name": "Python 3",
   "language": "python",
   "name": "python3"
  },
  "language_info": {
   "codemirror_mode": {
    "name": "ipython",
    "version": 2
   },
   "file_extension": ".py",
   "mimetype": "text/x-python",
   "name": "python",
   "nbconvert_exporter": "python",
   "pygments_lexer": "ipython2",
   "version": "2.7.6"
  }
 },
 "nbformat": 4,
 "nbformat_minor": 5
}
