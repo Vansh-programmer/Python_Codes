{
 "cells": [
  {
   "cell_type": "markdown",
   "id": "69427a9b31c1447b",
   "metadata": {},
   "source": [
    "## Opening a File"
   ]
  },
  {
   "cell_type": "markdown",
   "id": "51697415badc8b6a",
   "metadata": {},
   "source": [
    "* Before we can read the content of the file , we must tell python while file we are going to work with and what we will be doing with the file\n",
    "* This is done with the open() function\n",
    "* open() returns a \"file handle\" - a variable used to perform operations on the file\n",
    "* Similar to \"file -> Open\" in a word processor"
   ]
  },
  {
   "cell_type": "markdown",
   "id": "2e39fde0f9807308",
   "metadata": {},
   "source": [
    "### Using open()"
   ]
  },
  {
   "cell_type": "markdown",
   "id": "dd71134b88a7247a",
   "metadata": {},
   "source": [
    "<code> handle = open(filename,mode)<code>\n",
    "- returns a handle use to manipulate the file\n",
    "-file name is a string\n",
    "-mode is optional and should be 'r' if we are planning to read the file and 'w' if we are going to write to the file\n",
    "<code>fhand = open('something.txt' , 'r')<code>"
   ]
  },
  {
   "cell_type": "markdown",
   "id": "650258961273436a",
   "metadata": {},
   "source": [
    "### What is a Handle ?\n"
   ]
  },
  {
   "cell_type": "code",
   "execution_count": 3,
   "id": "f68d85217c8a7c6c",
   "metadata": {
    "ExecuteTime": {
     "end_time": "2025-05-07T19:22:24.200787Z",
     "start_time": "2025-05-07T19:22:24.190758Z"
    }
   },
   "outputs": [
    {
     "name": "stdout",
     "output_type": "stream",
     "text": [
      "<_io.TextIOWrapper name='handlerandom.txt' mode='r' encoding='cp1252'>\n"
     ]
    }
   ],
   "source": [
    "hand = open('handlerandom.txt')\n",
    "print(hand)\n",
    "#telling us something but not telling about actual file"
   ]
  },
  {
   "cell_type": "markdown",
   "id": "f45349b272d5ace0",
   "metadata": {},
   "source": [
    "### When Files are Missing"
   ]
  },
  {
   "cell_type": "code",
   "execution_count": 1,
   "id": "9b6e182cd674ec",
   "metadata": {
    "ExecuteTime": {
     "end_time": "2025-05-07T19:20:39.043607Z",
     "start_time": "2025-05-07T19:20:38.202274Z"
    }
   },
   "outputs": [
    {
     "ename": "FileNotFoundError",
     "evalue": "[Errno 2] No such file or directory: 'something.txt'",
     "output_type": "error",
     "traceback": [
      "\u001b[31m---------------------------------------------------------------------------\u001b[39m",
      "\u001b[31mFileNotFoundError\u001b[39m                         Traceback (most recent call last)",
      "\u001b[36mCell\u001b[39m\u001b[36m \u001b[39m\u001b[32mIn[1]\u001b[39m\u001b[32m, line 1\u001b[39m\n\u001b[32m----> \u001b[39m\u001b[32m1\u001b[39m fhand = \u001b[38;5;28;43mopen\u001b[39;49m\u001b[43m(\u001b[49m\u001b[33;43m'\u001b[39;49m\u001b[33;43msomething.txt\u001b[39;49m\u001b[33;43m'\u001b[39;49m\u001b[43m)\u001b[49m\n",
      "\u001b[36mFile \u001b[39m\u001b[32m~\\AppData\\Local\\Packages\\PythonSoftwareFoundation.Python.3.13_qbz5n2kfra8p0\\LocalCache\\local-packages\\Python313\\site-packages\\IPython\\core\\interactiveshell.py:325\u001b[39m, in \u001b[36m_modified_open\u001b[39m\u001b[34m(file, *args, **kwargs)\u001b[39m\n\u001b[32m    318\u001b[39m \u001b[38;5;28;01mif\u001b[39;00m file \u001b[38;5;129;01min\u001b[39;00m {\u001b[32m0\u001b[39m, \u001b[32m1\u001b[39m, \u001b[32m2\u001b[39m}:\n\u001b[32m    319\u001b[39m     \u001b[38;5;28;01mraise\u001b[39;00m \u001b[38;5;167;01mValueError\u001b[39;00m(\n\u001b[32m    320\u001b[39m         \u001b[33mf\u001b[39m\u001b[33m\"\u001b[39m\u001b[33mIPython won\u001b[39m\u001b[33m'\u001b[39m\u001b[33mt let you open fd=\u001b[39m\u001b[38;5;132;01m{\u001b[39;00mfile\u001b[38;5;132;01m}\u001b[39;00m\u001b[33m by default \u001b[39m\u001b[33m\"\u001b[39m\n\u001b[32m    321\u001b[39m         \u001b[33m\"\u001b[39m\u001b[33mas it is likely to crash IPython. If you know what you are doing, \u001b[39m\u001b[33m\"\u001b[39m\n\u001b[32m    322\u001b[39m         \u001b[33m\"\u001b[39m\u001b[33myou can use builtins\u001b[39m\u001b[33m'\u001b[39m\u001b[33m open.\u001b[39m\u001b[33m\"\u001b[39m\n\u001b[32m    323\u001b[39m     )\n\u001b[32m--> \u001b[39m\u001b[32m325\u001b[39m \u001b[38;5;28;01mreturn\u001b[39;00m \u001b[43mio_open\u001b[49m\u001b[43m(\u001b[49m\u001b[43mfile\u001b[49m\u001b[43m,\u001b[49m\u001b[43m \u001b[49m\u001b[43m*\u001b[49m\u001b[43margs\u001b[49m\u001b[43m,\u001b[49m\u001b[43m \u001b[49m\u001b[43m*\u001b[49m\u001b[43m*\u001b[49m\u001b[43mkwargs\u001b[49m\u001b[43m)\u001b[49m\n",
      "\u001b[31mFileNotFoundError\u001b[39m: [Errno 2] No such file or directory: 'something.txt'"
     ]
    }
   ],
   "source": [
    "fhand = open('something.txt')"
   ]
  },
  {
   "cell_type": "markdown",
   "id": "d99e56629e34eb91",
   "metadata": {},
   "source": [
    "### The newline Character"
   ]
  },
  {
   "cell_type": "code",
   "execution_count": 4,
   "id": "626520d1b61be07e",
   "metadata": {
    "ExecuteTime": {
     "end_time": "2025-05-07T19:25:50.976540Z",
     "start_time": "2025-05-07T19:25:50.958355Z"
    }
   },
   "outputs": [
    {
     "name": "stdout",
     "output_type": "stream",
     "text": [
      "hello\n",
      "world!\n",
      "X\n",
      "Y\n"
     ]
    },
    {
     "data": {
      "text/plain": [
       "3"
      ]
     },
     "execution_count": 4,
     "metadata": {},
     "output_type": "execute_result"
    }
   ],
   "source": [
    "#Newline is still one character - not two \\n\n",
    "stuff = 'hello\\nworld!'\n",
    "print(stuff)\n",
    "stuff ='X\\nY'\n",
    "print(stuff)\n",
    "len(stuff)"
   ]
  },
  {
   "cell_type": "markdown",
   "id": "8caacbd27c4020ef",
   "metadata": {},
   "source": [
    "### File Processing\n",
    "a text file has newlines at the end of each line\n",
    "* e.g hy my name is vansh what is your name\\n\n",
    "* my name is xyz hello vansh"
   ]
  }
 ],
 "metadata": {
  "kernelspec": {
   "display_name": "Python 3",
   "language": "python",
   "name": "python3"
  },
  "language_info": {
   "codemirror_mode": {
    "name": "ipython",
    "version": 2
   },
   "file_extension": ".py",
   "mimetype": "text/x-python",
   "name": "python",
   "nbconvert_exporter": "python",
   "pygments_lexer": "ipython2",
   "version": "3.13.3"
  }
 },
 "nbformat": 4,
 "nbformat_minor": 5
}
