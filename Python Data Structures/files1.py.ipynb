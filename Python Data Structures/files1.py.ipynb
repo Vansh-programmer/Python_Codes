{
 "cells": [
  {
   "metadata": {},
   "cell_type": "markdown",
   "source": "## Opening a File",
   "id": "69427a9b31c1447b"
  },
  {
   "metadata": {},
   "cell_type": "markdown",
   "source": [
    "* Before we can read the content of the file , we must tell python while file we are going to work with and what we will be doing with the file\n",
    "* This is done with the open() function\n",
    "* open() returns a \"file handle\" - a variable used to perform operations on the file\n",
    "* Similar to \"file -> Open\" in a word processor"
   ],
   "id": "51697415badc8b6a"
  },
  {
   "metadata": {},
   "cell_type": "markdown",
   "source": "### Using open()",
   "id": "2e39fde0f9807308"
  },
  {
   "metadata": {},
   "cell_type": "markdown",
   "source": [
    "<code> handle = open(filename,mode)<code>\n",
    "- returns a handle use to manipulate the file\n",
    "-file name is a string\n",
    "-mode is optional and should be 'r' if we are planning to read the file and 'w' if we are going to write to the file\n",
    "<code>fhand = open('something.txt' , 'r')<code>"
   ],
   "id": "dd71134b88a7247a"
  },
  {
   "metadata": {},
   "cell_type": "markdown",
   "source": "### What is a Handle ?\n",
   "id": "650258961273436a"
  },
  {
   "metadata": {
    "ExecuteTime": {
     "end_time": "2025-05-07T19:22:24.200787Z",
     "start_time": "2025-05-07T19:22:24.190758Z"
    }
   },
   "cell_type": "code",
   "source": [
    "hand = open('handlerandom.txt')\n",
    "print(hand)\n",
    "#telling us something but not telling about actual file"
   ],
   "id": "f68d85217c8a7c6c",
   "outputs": [
    {
     "name": "stdout",
     "output_type": "stream",
     "text": [
      "<_io.TextIOWrapper name='handlerandom.txt' mode='r' encoding='cp1252'>\n"
     ]
    }
   ],
   "execution_count": 3
  },
  {
   "metadata": {},
   "cell_type": "markdown",
   "source": "### When Files are Missing",
   "id": "f45349b272d5ace0"
  },
  {
   "metadata": {
    "ExecuteTime": {
     "end_time": "2025-05-07T19:20:39.043607Z",
     "start_time": "2025-05-07T19:20:38.202274Z"
    }
   },
   "cell_type": "code",
   "source": "fhand = open('something.txt')",
   "id": "9b6e182cd674ec",
   "outputs": [
    {
     "ename": "FileNotFoundError",
     "evalue": "[Errno 2] No such file or directory: 'something.txt'",
     "output_type": "error",
     "traceback": [
      "\u001B[31m---------------------------------------------------------------------------\u001B[39m",
      "\u001B[31mFileNotFoundError\u001B[39m                         Traceback (most recent call last)",
      "\u001B[36mCell\u001B[39m\u001B[36m \u001B[39m\u001B[32mIn[1]\u001B[39m\u001B[32m, line 1\u001B[39m\n\u001B[32m----> \u001B[39m\u001B[32m1\u001B[39m fhand = \u001B[38;5;28;43mopen\u001B[39;49m\u001B[43m(\u001B[49m\u001B[33;43m'\u001B[39;49m\u001B[33;43msomething.txt\u001B[39;49m\u001B[33;43m'\u001B[39;49m\u001B[43m)\u001B[49m\n",
      "\u001B[36mFile \u001B[39m\u001B[32m~\\AppData\\Local\\Packages\\PythonSoftwareFoundation.Python.3.13_qbz5n2kfra8p0\\LocalCache\\local-packages\\Python313\\site-packages\\IPython\\core\\interactiveshell.py:325\u001B[39m, in \u001B[36m_modified_open\u001B[39m\u001B[34m(file, *args, **kwargs)\u001B[39m\n\u001B[32m    318\u001B[39m \u001B[38;5;28;01mif\u001B[39;00m file \u001B[38;5;129;01min\u001B[39;00m {\u001B[32m0\u001B[39m, \u001B[32m1\u001B[39m, \u001B[32m2\u001B[39m}:\n\u001B[32m    319\u001B[39m     \u001B[38;5;28;01mraise\u001B[39;00m \u001B[38;5;167;01mValueError\u001B[39;00m(\n\u001B[32m    320\u001B[39m         \u001B[33mf\u001B[39m\u001B[33m\"\u001B[39m\u001B[33mIPython won\u001B[39m\u001B[33m'\u001B[39m\u001B[33mt let you open fd=\u001B[39m\u001B[38;5;132;01m{\u001B[39;00mfile\u001B[38;5;132;01m}\u001B[39;00m\u001B[33m by default \u001B[39m\u001B[33m\"\u001B[39m\n\u001B[32m    321\u001B[39m         \u001B[33m\"\u001B[39m\u001B[33mas it is likely to crash IPython. If you know what you are doing, \u001B[39m\u001B[33m\"\u001B[39m\n\u001B[32m    322\u001B[39m         \u001B[33m\"\u001B[39m\u001B[33myou can use builtins\u001B[39m\u001B[33m'\u001B[39m\u001B[33m open.\u001B[39m\u001B[33m\"\u001B[39m\n\u001B[32m    323\u001B[39m     )\n\u001B[32m--> \u001B[39m\u001B[32m325\u001B[39m \u001B[38;5;28;01mreturn\u001B[39;00m \u001B[43mio_open\u001B[49m\u001B[43m(\u001B[49m\u001B[43mfile\u001B[49m\u001B[43m,\u001B[49m\u001B[43m \u001B[49m\u001B[43m*\u001B[49m\u001B[43margs\u001B[49m\u001B[43m,\u001B[49m\u001B[43m \u001B[49m\u001B[43m*\u001B[49m\u001B[43m*\u001B[49m\u001B[43mkwargs\u001B[49m\u001B[43m)\u001B[49m\n",
      "\u001B[31mFileNotFoundError\u001B[39m: [Errno 2] No such file or directory: 'something.txt'"
     ]
    }
   ],
   "execution_count": 1
  },
  {
   "metadata": {},
   "cell_type": "markdown",
   "source": "### The newline Character",
   "id": "d99e56629e34eb91"
  },
  {
   "metadata": {
    "ExecuteTime": {
     "end_time": "2025-05-07T19:25:50.976540Z",
     "start_time": "2025-05-07T19:25:50.958355Z"
    }
   },
   "cell_type": "code",
   "source": [
    "#Newline is still one character - not two \\n\n",
    "stuff = 'hello\\nworld!'\n",
    "print(stuff)\n",
    "stuff ='X\\nY'\n",
    "print(stuff)\n",
    "len(stuff)"
   ],
   "id": "626520d1b61be07e",
   "outputs": [
    {
     "name": "stdout",
     "output_type": "stream",
     "text": [
      "hello\n",
      "world!\n",
      "X\n",
      "Y\n"
     ]
    },
    {
     "data": {
      "text/plain": [
       "3"
      ]
     },
     "execution_count": 4,
     "metadata": {},
     "output_type": "execute_result"
    }
   ],
   "execution_count": 4
  },
  {
   "metadata": {},
   "cell_type": "markdown",
   "source": [
    "### File Processing\n",
    "a text file has newlines at the end of each line\n",
    "* e.g hy my name is vansh what is your name\\n\n",
    "* my name is xyz hello vansh"
   ],
   "id": "8caacbd27c4020ef"
  }
 ],
 "metadata": {
  "kernelspec": {
   "display_name": "Python 3",
   "language": "python",
   "name": "python3"
  },
  "language_info": {
   "codemirror_mode": {
    "name": "ipython",
    "version": 2
   },
   "file_extension": ".py",
   "mimetype": "text/x-python",
   "name": "python",
   "nbconvert_exporter": "python",
   "pygments_lexer": "ipython2",
   "version": "2.7.6"
  }
 },
 "nbformat": 4,
 "nbformat_minor": 5
}
