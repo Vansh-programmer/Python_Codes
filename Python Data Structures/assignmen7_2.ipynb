{
 "cells": [
  {
   "cell_type": "markdown",
   "id": "4f7b8955",
   "metadata": {},
   "source": [
    "## Assignment 7.2\n",
    "Write a program that prompts for a file name, then opens that file and reads through the file, looking for lines of the form:\n",
    "<code> X-DSPAM-Confidence:    0.8475 <code>\n",
    "\n",
    "Count these lines and extract the floating point values from each of the lines and compute the average of those values and produce an output as shown below. Do not use the sum() function or a variable named sum in your solution.\n",
    "You can download the sample data at http://www.py4e.com/code3/mbox-short.txt when you are testing below enter **mbox-short.txt** as the file name."
   ]
  },
  {
   "cell_type": "code",
   "execution_count": 4,
   "id": "8fe632cc",
   "metadata": {},
   "outputs": [
    {
     "name": "stdout",
     "output_type": "stream",
     "text": [
      "0.7507185185185187\n"
     ]
    }
   ],
   "source": [
    "fname = input('enter file name:')\n",
    "file_acess = open(fname)\n",
    "total = 0\n",
    "avg =0\n",
    "value = 0\n",
    "for line in file_acess:\n",
    "    if not line.startswith('X-DSPAM-Confidence:'):\n",
    "        continue\n",
    "    else:\n",
    "        line.find('0.')\n",
    "    value+=1\n",
    "    data = float(line[20:])\n",
    "    total +=data\n",
    "\n",
    "avg = total/value\n",
    "print(avg)"
   ]
  }
 ],
 "metadata": {
  "kernelspec": {
   "display_name": "Python 3",
   "language": "python",
   "name": "python3"
  },
  "language_info": {
   "codemirror_mode": {
    "name": "ipython",
    "version": 3
   },
   "file_extension": ".py",
   "mimetype": "text/x-python",
   "name": "python",
   "nbconvert_exporter": "python",
   "pygments_lexer": "ipython3",
   "version": "3.13.3"
  }
 },
 "nbformat": 4,
 "nbformat_minor": 5
}
