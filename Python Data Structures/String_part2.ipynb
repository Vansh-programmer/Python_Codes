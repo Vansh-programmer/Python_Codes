{
 "cells": [
  {
   "cell_type": "markdown",
   "id": "38e7fb68",
   "metadata": {},
   "source": [
    "String Concatenation"
   ]
  },
  {
   "cell_type": "code",
   "execution_count": 5,
   "id": "4eac307d",
   "metadata": {},
   "outputs": [
    {
     "name": "stdout",
     "output_type": "stream",
     "text": [
      "Vansh poonia\n"
     ]
    }
   ],
   "source": [
    "a = 'vansh'\n",
    "b = a + ' '+'poonia'\n",
    "print(b.capitalize())\n",
    "\n"
   ]
  },
  {
   "cell_type": "markdown",
   "id": "def01c69",
   "metadata": {},
   "source": [
    "Using 'in' as a Logical Operator"
   ]
  },
  {
   "cell_type": "code",
   "execution_count": 15,
   "id": "e87a89e6",
   "metadata": {},
   "outputs": [
    {
     "name": "stdout",
     "output_type": "stream",
     "text": [
      "True\n",
      "False\n",
      "True\n",
      "\n",
      "-----------------------------------------------------------------\n",
      "Found it!\n",
      "3 a are present\n"
     ]
    }
   ],
   "source": [
    "#The 'in' keyword can be used to check to see if one string is \"in\" another string \n",
    "\n",
    "#The 'in' expression is a logical expresssion that returns True or False and can be used in an 'if' statement\n",
    "\n",
    "fruit =  'banana'\n",
    "print('n' in fruit)\n",
    "print('v' in fruit)\n",
    "print('nan' in fruit)\n",
    "print('\\n-----------------------------------------------------------------' )\n",
    "\n",
    "count = 0\n",
    "for i in fruit:\n",
    "    if i =='a':\n",
    "        count+=1\n",
    "if 'a' in fruit :\n",
    "    print('Found it!')\n",
    "\n",
    "print(count , 'a are present')"
   ]
  },
  {
   "cell_type": "markdown",
   "id": "54d69009",
   "metadata": {},
   "source": [
    "String Comparision"
   ]
  },
  {
   "cell_type": "code",
   "execution_count": 16,
   "id": "f0817d61",
   "metadata": {},
   "outputs": [
    {
     "name": "stdout",
     "output_type": "stream",
     "text": [
      "Can't Touch , just a joke\n"
     ]
    }
   ],
   "source": [
    "word = 'Chamar'\n",
    "\n",
    "if word == 'Jaat Samajh':\n",
    "    print('Alright ,',word)\n",
    "elif word < 'Jaat Samajh':\n",
    "    print(\"Can't Touch , just a joke\")\n",
    "elif word > 'Jaat Samajh':\n",
    "    print('Idk lying?')\n",
    "else:\n",
    "    print('damn')\n"
   ]
  },
  {
   "cell_type": "markdown",
   "id": "962b4df1",
   "metadata": {},
   "source": [
    "String Library"
   ]
  },
  {
   "cell_type": "markdown",
   "id": "329b0b01",
   "metadata": {},
   "source": [
    "*Python has a no. of string functions which are in the string library\n",
    "*These functions are already built into every string - we invoke them by appending the function to the string varaible\n",
    "*These functions do not modify the original string , instead they return a new string that has been altered"
   ]
  },
  {
   "cell_type": "code",
   "execution_count": null,
   "id": "cfbfad9a",
   "metadata": {},
   "outputs": [],
   "source": [
    "greet = 'hElLo'\n",
    "print(greet.lower())\n",
    "print(greet.upper())\n",
    "print(greet.capitalize())\n",
    "type(greet)\n",
    "#dir says what strings are  capable of\n",
    "dir(greet)#--- show bunch of methods\n",
    "\n",
    "print('\\n-----------------------------------------------------------------')\n",
    "\n",
    "\n"
   ]
  },
  {
   "cell_type": "markdown",
   "id": "61a9ef59",
   "metadata": {},
   "source": [
    "Searching a String"
   ]
  },
  {
   "cell_type": "code",
   "execution_count": null,
   "id": "9ad05664",
   "metadata": {},
   "outputs": [
    {
     "name": "stdout",
     "output_type": "stream",
     "text": [
      "1\n",
      "-1\n"
     ]
    }
   ],
   "source": [
    "fruit = 'banana'\n",
    "position = fruit.find('a')\n",
    "print(position)\n",
    "print(fruit.find('v'))#-1 is kind of flag means did not find it"
   ]
  },
  {
   "cell_type": "markdown",
   "id": "7e77d31c",
   "metadata": {},
   "source": [
    "Search and Replace"
   ]
  },
  {
   "cell_type": "markdown",
   "id": "b43fc7a1",
   "metadata": {},
   "source": [
    "The replace() function replaces all occurrences of the search string with the replacement string"
   ]
  },
  {
   "cell_type": "code",
   "execution_count": 33,
   "id": "5d4d8d56",
   "metadata": {},
   "outputs": [
    {
     "name": "stdout",
     "output_type": "stream",
     "text": [
      "Hello Vansh\n",
      "Heppo xyz\n",
      " hi my  name  is   vansh   and i  like to say that   my english  is very bad  \n",
      "hi my name is  vansh  and i like to say that  my english is very bad\n"
     ]
    }
   ],
   "source": [
    "greet  = 'Hello xyz'\n",
    "nstr = greet.replace('xyz','Vansh')\n",
    "print(nstr)\n",
    "nstr = greet . replace('l','p')\n",
    "print(nstr)\n",
    "\n",
    "multiple_spaces = ' hi my  name  is   vansh   and i  like to say that   my english  is very bad  '\n",
    "print(multiple_spaces)\n",
    "print(multiple_spaces.capitalize().replace('  ',' ').replace('   ',' ').strip())\n"
   ]
  },
  {
   "cell_type": "markdown",
   "id": "2a3ff833",
   "metadata": {},
   "source": [
    "Stripping Whitespace"
   ]
  },
  {
   "cell_type": "markdown",
   "id": "b4d22f12",
   "metadata": {},
   "source": [
    "lstrip() and rstrip() remove whitespaces at the left or right\n",
    "strip() remove beggining and ending whitespace"
   ]
  },
  {
   "cell_type": "code",
   "execution_count": 25,
   "id": "64936e85",
   "metadata": {},
   "outputs": [
    {
     "name": "stdout",
     "output_type": "stream",
     "text": [
      "      hi bro  \n",
      "hi bro  \n",
      "      hi bro\n",
      "hi bro\n"
     ]
    }
   ],
   "source": [
    "greet = '      hi bro  '\n",
    "print(greet)\n",
    "print(greet.lstrip())\n",
    "print(greet.rstrip())\n",
    "print(greet.strip())"
   ]
  },
  {
   "cell_type": "markdown",
   "id": "db31fb04",
   "metadata": {},
   "source": [
    "Prefixes"
   ]
  },
  {
   "cell_type": "code",
   "execution_count": 34,
   "id": "449980bf",
   "metadata": {},
   "outputs": [
    {
     "name": "stdout",
     "output_type": "stream",
     "text": [
      "True\n",
      "False\n"
     ]
    }
   ],
   "source": [
    "line = 'Please have a nice day'\n",
    "print(line.startswith('Please'))\n",
    "print(line.startswith('p'))\n"
   ]
  },
  {
   "cell_type": "markdown",
   "id": "64081f5c",
   "metadata": {},
   "source": [
    "<h2>Parsing and Extracting<h2>"
   ]
  },
  {
   "cell_type": "code",
   "execution_count": null,
   "id": "95fa2895",
   "metadata": {},
   "outputs": [
    {
     "name": "stdout",
     "output_type": "stream",
     "text": [
      "21\n",
      "31\n",
      "uct.ac.za\n"
     ]
    }
   ],
   "source": [
    "data = 'From stephen.marquard@uct.ac.za Sat Jan 5 09:14:16 2008'\n",
    "atpos = data.find('@')\n",
    "print(atpos)\n",
    "sppos = data.find(' ',atpos) #starts finging from atpos value which is 21 so space after come 21 will take that\n",
    "print(sppos)\n",
    "host = data[atpos+1 : sppos]\n",
    "print(host)\n"
   ]
  },
  {
   "cell_type": "markdown",
   "id": "0595206c",
   "metadata": {},
   "source": [
    "## Summary\n",
    "\n"
   ]
  },
  {
   "cell_type": "markdown",
   "id": "2bc86d7f",
   "metadata": {},
   "source": [
    "1. <l1>string type<l1>\n",
    "2. <l1>Read/convert<l1>\n",
    "3. <l1>indexing string<l1>\n",
    "4. <l1>slicing strings[2:4]<l1>\n",
    "5. <l1>looping through strings with for and while<l1>\n",
    "6. <l1>concatenating strings with +<l1>\n",
    "7. <l1>string operation<l1>\n",
    "8. <l1>string library<l1>\n",
    "9. <l1>string comprarisons<l1>\n",
    "10. <l1>searching in strings<l1>\n",
    "11. <l1>replacing text<l1>\n",
    "12. <l1>stripping white space<l1>"
   ]
  }
 ],
 "metadata": {
  "kernelspec": {
   "display_name": "Python 3",
   "language": "python",
   "name": "python3"
  },
  "language_info": {
   "codemirror_mode": {
    "name": "ipython",
    "version": 3
   },
   "file_extension": ".py",
   "mimetype": "text/x-python",
   "name": "python",
   "nbconvert_exporter": "python",
   "pygments_lexer": "ipython3",
   "version": "3.13.3"
  }
 },
 "nbformat": 4,
 "nbformat_minor": 5
}
