{
 "cells": [
  {
   "cell_type": "markdown",
   "id": "9784dfeee44ced1",
   "metadata": {},
   "source": [
    "Looping Through Strings"
   ]
  },
  {
   "cell_type": "code",
   "execution_count": 1,
   "id": "f9fad0d2d2161dd8",
   "metadata": {
    "ExecuteTime": {
     "end_time": "2025-05-02T02:10:20.349884Z",
     "start_time": "2025-05-02T02:10:20.335384Z"
    }
   },
   "outputs": [
    {
     "name": "stdout",
     "output_type": "stream",
     "text": [
      "0 a\n",
      "1 p\n",
      "2 p\n",
      "3 l\n",
      "4 e\n"
     ]
    }
   ],
   "source": [
    "fruit = 'apple'\n",
    "index = 0\n",
    "while index < len(fruit):\n",
    "    print(index , fruit[index])\n",
    "    index+=1\n"
   ]
  },
  {
   "cell_type": "code",
   "execution_count": null,
   "id": "cdb5f5578ad6c72d",
   "metadata": {},
   "outputs": [],
   "source": []
  },
  {
   "cell_type": "code",
   "execution_count": 2,
   "id": "3fefc969d858428f",
   "metadata": {
    "ExecuteTime": {
     "end_time": "2025-05-02T02:12:16.679771Z",
     "start_time": "2025-05-02T02:12:16.667197Z"
    }
   },
   "outputs": [
    {
     "name": "stdout",
     "output_type": "stream",
     "text": [
      "a\n",
      "p\n",
      "p\n",
      "l\n",
      "e\n"
     ]
    }
   ],
   "source": [
    "fruit = 'apple'\n",
    "for letter in fruit:\n",
    "    print(letter)"
   ]
  },
  {
   "cell_type": "code",
   "execution_count": 3,
   "id": "e2f6ce42b31d63d5",
   "metadata": {
    "ExecuteTime": {
     "end_time": "2025-05-02T02:14:50.579167Z",
     "start_time": "2025-05-02T02:14:50.570137Z"
    }
   },
   "outputs": [
    {
     "name": "stdout",
     "output_type": "stream",
     "text": [
      "2\n"
     ]
    }
   ],
   "source": [
    "fruit = 'apple'\n",
    "count = 0\n",
    "for letter in fruit:\n",
    "    if letter == 'p':\n",
    "        count+=1\n",
    "print(count)"
   ]
  },
  {
   "cell_type": "markdown",
   "id": "0def42f6",
   "metadata": {},
   "source": [
    "6.2 Manipulating Strings"
   ]
  },
  {
   "cell_type": "code",
   "execution_count": 4,
   "id": "67f05077",
   "metadata": {},
   "outputs": [
    {
     "name": "stdout",
     "output_type": "stream",
     "text": [
      "word  p  is larger\n"
     ]
    }
   ],
   "source": [
    "word = input('Enter a word:')\n",
    "if word == 'banana':\n",
    "    print('all right ' , word)\n",
    "\n",
    "if word <'banana':\n",
    "    print('word ' , word , ' is smaller')\n",
    "\n",
    "if word > 'banana':\n",
    "    print('word ', word , ' is larger')\n",
    "\n",
    "else:\n",
    "    print('Ok')"
   ]
  },
  {
   "cell_type": "markdown",
   "id": "3a1b2246",
   "metadata": {},
   "source": [
    "Searching in a string"
   ]
  },
  {
   "cell_type": "code",
   "execution_count": 6,
   "id": "74bc6aff",
   "metadata": {},
   "outputs": [
    {
     "name": "stdout",
     "output_type": "stream",
     "text": [
      "-1\n",
      "1\n"
     ]
    }
   ],
   "source": [
    "fruit = 'apple'\n",
    "position = fruit.find('v')\n",
    "print(position)\n",
    "position = fruit.find('p')\n",
    "print(position)"
   ]
  },
  {
   "cell_type": "markdown",
   "id": "073a5de7",
   "metadata": {},
   "source": [
    "Search and Replace"
   ]
  },
  {
   "cell_type": "code",
   "execution_count": 9,
   "id": "42facdf0",
   "metadata": {},
   "outputs": [
    {
     "name": "stdout",
     "output_type": "stream",
     "text": [
      "Holla everyone\n",
      "Hello everyone\n"
     ]
    }
   ],
   "source": [
    "greet = 'Hello everyone'\n",
    "nstr = greet.replace('ello','olla')\n",
    "print(nstr)\n",
    "nstr = greet.replace('o','o')\n",
    "print(nstr)"
   ]
  },
  {
   "cell_type": "markdown",
   "id": "3d16607d",
   "metadata": {},
   "source": [
    "Stripping Whitespace"
   ]
  },
  {
   "cell_type": "markdown",
   "id": "ac7ac634",
   "metadata": {},
   "source": [
    "Sometimes we want to take a string and remove whitespace at the beginning and/or end\n",
    "lstrip() and rstrip() remove whitespace at the left or right\n",
    "strip() removes both beginning and ending whitespace"
   ]
  },
  {
   "cell_type": "code",
   "execution_count": null,
   "id": "dadcbcba",
   "metadata": {},
   "outputs": [],
   "source": [
    "greet = '   Hello Bob  '\n",
    "greet.lstrip()\n",
    "'Hello Bob  '\n",
    "greet.rstrip()\n",
    "'   Hello Bob'\n",
    "greet.strip()\n",
    "'Hello Bob'"
   ]
  },
  {
   "cell_type": "markdown",
   "id": "dddc5464",
   "metadata": {},
   "source": [
    "Prefixes"
   ]
  },
  {
   "cell_type": "code",
   "execution_count": 12,
   "id": "593e80d7",
   "metadata": {},
   "outputs": [
    {
     "name": "stdout",
     "output_type": "stream",
     "text": [
      "True\n",
      "False\n"
     ]
    }
   ],
   "source": [
    "line = 'Please have a nice day'\n",
    "print(line.startswith('Please'))\n",
    "print(line.startswith('p'))"
   ]
  },
  {
   "cell_type": "markdown",
   "id": "3532c52b",
   "metadata": {},
   "source": [
    "Parsing and Extracting"
   ]
  },
  {
   "cell_type": "code",
   "execution_count": 13,
   "id": "e79f4152",
   "metadata": {},
   "outputs": [
    {
     "name": "stdout",
     "output_type": "stream",
     "text": [
      "21\n",
      "31\n",
      "uct.ac.za\n"
     ]
    }
   ],
   "source": [
    "#From stephen.marquard@uct.ac.za Sat Jan  5 09:14:16 2008\n",
    "data = 'From stephen.marquard@uct.ac.za Sat Jan  5 09:14:16 2008'\n",
    "atpos = data.find('@')\n",
    "print(atpos)\n",
    "21\n",
    "sppos = data.find(' ',atpos)\n",
    "print(sppos)\n",
    "31\n",
    "host = data[atpos+1 : sppos]\n",
    "print(host)"
   ]
  }
 ],
 "metadata": {
  "kernelspec": {
   "display_name": "Python 3",
   "language": "python",
   "name": "python3"
  },
  "language_info": {
   "codemirror_mode": {
    "name": "ipython",
    "version": 3
   },
   "file_extension": ".py",
   "mimetype": "text/x-python",
   "name": "python",
   "nbconvert_exporter": "python",
   "pygments_lexer": "ipython3",
   "version": "3.12.10"
  }
 },
 "nbformat": 4,
 "nbformat_minor": 5
}
