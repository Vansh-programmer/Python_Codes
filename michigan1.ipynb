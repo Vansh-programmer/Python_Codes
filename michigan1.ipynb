{
 "cells": [
  {
   "cell_type": "markdown",
   "id": "10b92229a1d3c8b3",
   "metadata": {},
   "source": [
    "More Conditional Statements"
   ]
  },
  {
   "cell_type": "markdown",
   "id": "0e4d59ba",
   "metadata": {},
   "source": []
  },
  {
   "cell_type": "code",
   "execution_count": 2,
   "id": "5a10a638a3237e8a",
   "metadata": {
    "jupyter": {
     "is_executing": true
    }
   },
   "outputs": [
    {
     "name": "stdout",
     "output_type": "stream",
     "text": [
      "Medium\n"
     ]
    }
   ],
   "source": [
    "x= 5\n",
    "if x < 2 :\n",
    "    print('Small')\n",
    "elif x < 9 :\n",
    "    print('Medium')\n",
    "else:\n",
    "    print('Large')"
   ]
  },
  {
   "cell_type": "markdown",
   "id": "6268ea0328bad3aa",
   "metadata": {},
   "source": [
    "Traceback"
   ]
  },
  {
   "cell_type": "markdown",
   "id": "55d0d842-b37e-4711-a5e1-5f028c2734cc",
   "metadata": {},
   "source": [
    "#e.g\n",
    "astr = 'Hello'\n",
    "istr = int(astr)\n",
    "print('First',istr)\n",
    "astr='123'\n",
    "istr = int(astr)\n",
    "print(istr)\n",
    "# Program Blows UP"
   ]
  },
  {
   "cell_type": "markdown",
   "id": "078102d4-c841-4c1a-bde4-d1e189f5d5b5",
   "metadata": {},
   "source": [
    "**When face traceback jump to another statement**"
   ]
  },
  {
   "cell_type": "code",
   "execution_count": 3,
   "id": "69c58c2e-ae23-4c34-af9d-f0c1ecbdcb21",
   "metadata": {},
   "outputs": [
    {
     "name": "stdout",
     "output_type": "stream",
     "text": [
      "First -1\n",
      "Second 123\n"
     ]
    }
   ],
   "source": [
    "astr = 'Hello'\n",
    "try:\n",
    "    istr = int(astr)\n",
    "except:\n",
    "    istr = -1\n",
    "print('First', istr)\n",
    "\n",
    "astr = '123'\n",
    "try:\n",
    "    istr = int(astr)\n",
    "except:\n",
    "    istr = -1\n",
    "print('Second', istr)"
   ]
  },
  {
   "cell_type": "code",
   "execution_count": 5,
   "id": "af159e6a-304d-484c-aee1-157f802d7f42",
   "metadata": {},
   "outputs": [
    {
     "name": "stdout",
     "output_type": "stream",
     "text": [
      "ENter number 5\n"
     ]
    },
    {
     "name": "stdout",
     "output_type": "stream",
     "text": [
      "Nice\n"
     ]
    }
   ],
   "source": [
    "#Sample Try/except\n",
    "user_input = input('ENter number')\n",
    "try:\n",
    "    ival = int(user_input)\n",
    "except:\n",
    "    ival = -1\n",
    "if ival>0:\n",
    "    print('Nice')\n",
    "else:\n",
    "    print('Not a number')"
   ]
  },
  {
   "cell_type": "code",
   "execution_count": null,
   "id": "a7d880f8-8039-4d1f-80f4-5e7f65e32982",
   "metadata": {},
   "outputs": [],
   "source": [
    "#worked exercise 3.2\n",
    "sh = input(\"enter hours: \")\n",
    "sr = input(\"Enter Rate: \")\n",
    "try:\n",
    "    fh = float(sh)\n",
    "    fr= float(sr)\n",
    "except:\n",
    "    print(\"Error, please enter numeric value\")\n",
    "print(fh,fr)\n",
    "if fh>40:\n",
    "    reg = fr*fh\n",
    "    otp = (fh-40)*(fr*0.5)\n",
    "    xp = reg+otp\n",
    "else:\n",
    "    xp = fh*fr\n",
    "\n",
    "print(\"Pay:\",xp)\n",
    "\n"
   ]
  },
  {
   "cell_type": "code",
   "execution_count": 10,
   "id": "3ff1caea-66de-46c6-a734-255c8087409a",
   "metadata": {},
   "outputs": [
    {
     "name": "stdout",
     "output_type": "stream",
     "text": [
      "Hi \n",
      "My name is vansh\n"
     ]
    }
   ],
   "source": [
    "def print_xyz():\n",
    "    print(\"Hi \")\n",
    "    print(\"My name is vansh\")\n",
    "\n",
    "\n",
    "#calling function\n",
    "print_xyz()"
   ]
  },
  {
   "cell_type": "code",
   "execution_count": 11,
   "id": "44056a47-9615-4706-a2ae-5c007c0ef8e8",
   "metadata": {},
   "outputs": [
    {
     "name": "stdout",
     "output_type": "stream",
     "text": [
      "Ram Ram\n",
      "Namaste\n",
      ":)\n"
     ]
    }
   ],
   "source": [
    "def greet(lang):#lang is parameter\n",
    "    if lang == 'Hi':\n",
    "        print('Ram Ram')\n",
    "    elif lang == 'Hello':\n",
    "        print('Namaste')\n",
    "    else:\n",
    "        print(':)')#if elif else print are funciton defination\n",
    "greet('Hi')#'Hi' is argument\n",
    "greet('Hello')\n",
    "greet('Idk')"
   ]
  },
  {
   "cell_type": "markdown",
   "id": "609ef11c-1053-4ee8-8008-304f6455e631",
   "metadata": {},
   "source": [
    "**Return Values**"
   ]
  },
  {
   "cell_type": "code",
   "execution_count": 17,
   "id": "64bccddc-594a-4682-9d23-7cb2690e180a",
   "metadata": {},
   "outputs": [
    {
     "name": "stdout",
     "output_type": "stream",
     "text": [
      "Bro Hello\n",
      "Ram Ram\n",
      "Namaste\n",
      ":)\n"
     ]
    }
   ],
   "source": [
    "def greet():\n",
    "    return 'Hello'\n",
    "print(f\"Bro {greet()}\")\n",
    "\n",
    "def greeet(lang):#lang is parameter\n",
    "    if lang == 'Hi':\n",
    "        return 'Ram Ram'\n",
    "    elif lang == 'Hello':\n",
    "        return 'Namaste'\n",
    "    else:\n",
    "        return':)'#if elif else print are funciton defination\n",
    "print(greeet('Hi'))\n",
    "print(greeet('Hello'))\n",
    "print(greeet('zyz'))"
   ]
  },
  {
   "cell_type": "markdown",
   "id": "35dfd5ca-b6d2-4db5-ae2c-f172ad7b5cbf",
   "metadata": {},
   "source": [
    "**LOOPS**"
   ]
  },
  {
   "cell_type": "code",
   "execution_count": 1,
   "id": "e313b817-1a67-45df-977e-550c46a7fce6",
   "metadata": {},
   "outputs": [
    {
     "name": "stdout",
     "output_type": "stream",
     "text": [
      "5\n",
      "4\n",
      "3\n",
      "2\n",
      "1\n",
      "Blastoff!\n",
      "0\n"
     ]
    }
   ],
   "source": [
    "#while\n",
    "n =5\n",
    "while n>0:\n",
    "    print(n)\n",
    "    n-=1\n",
    "print('Blastoff!')\n",
    "print(n)"
   ]
  },
  {
   "cell_type": "markdown",
   "id": "feb77c5b-e251-4031-9d1f-88a62f87fd2f",
   "metadata": {},
   "source": [
    "Breaking out of the Loop"
   ]
  },
  {
   "cell_type": "code",
   "execution_count": 6,
   "id": "19e06d23-c9b3-4159-b4b4-586a1a33a0d4",
   "metadata": {},
   "outputs": [
    {
     "name": "stdout",
     "output_type": "stream",
     "text": [
      "> hi\n"
     ]
    },
    {
     "name": "stdout",
     "output_type": "stream",
     "text": [
      "hi\n"
     ]
    },
    {
     "name": "stdout",
     "output_type": "stream",
     "text": [
      "> done\n"
     ]
    },
    {
     "name": "stdout",
     "output_type": "stream",
     "text": [
      "DONE!\n"
     ]
    }
   ],
   "source": [
    "while True:\n",
    "    line = input('>')\n",
    "    if line == 'done':\n",
    "        break\n",
    "    print(line)\n",
    "print('DONE!')\n",
    "    "
   ]
  },
  {
   "cell_type": "markdown",
   "id": "acc16af5-6c52-4d60-aba3-91782e0e8c91",
   "metadata": {},
   "source": [
    "Finishing an iteration with continue"
   ]
  },
  {
   "cell_type": "code",
   "execution_count": 7,
   "id": "170ae9e0-7d54-4d5c-b3ba-9790dfd6be28",
   "metadata": {},
   "outputs": [
    {
     "name": "stdout",
     "output_type": "stream",
     "text": [
      "> hi\n"
     ]
    },
    {
     "name": "stdout",
     "output_type": "stream",
     "text": [
      "hi\n"
     ]
    },
    {
     "name": "stdout",
     "output_type": "stream",
     "text": [
      "> bi\n"
     ]
    },
    {
     "name": "stdout",
     "output_type": "stream",
     "text": [
      "bi\n"
     ]
    },
    {
     "name": "stdout",
     "output_type": "stream",
     "text": [
      "> #\n",
      "> what is the difference why i want to do that maybe i know\n"
     ]
    },
    {
     "name": "stdout",
     "output_type": "stream",
     "text": [
      "what is the difference why i want to do that maybe i know\n"
     ]
    },
    {
     "name": "stdout",
     "output_type": "stream",
     "text": [
      "> done\n"
     ]
    },
    {
     "name": "stdout",
     "output_type": "stream",
     "text": [
      "DONE!\n"
     ]
    }
   ],
   "source": [
    "while True:\n",
    "    line = input('>')\n",
    "    if line[0] =='#':\n",
    "        continue\n",
    "    if line =='done':\n",
    "        break\n",
    "    print(line)\n",
    "print('DONE!')"
   ]
  },
  {
   "cell_type": "markdown",
   "id": "589305b5-8087-4b0d-a2c3-a7d14679f477",
   "metadata": {},
   "source": [
    "**Definite LOOP**"
   ]
  },
  {
   "cell_type": "code",
   "execution_count": 14,
   "id": "34d3c21f-f494-4cf6-9c9a-e50702f24c77",
   "metadata": {},
   "outputs": [
    {
     "name": "stdout",
     "output_type": "stream",
     "text": [
      "1\n",
      "2\n",
      "3\n",
      "4\n",
      "5\n",
      "Blastoff!\n"
     ]
    }
   ],
   "source": [
    "#simple definite loop\n",
    "for i in [1,2,3,4,5]:\n",
    "    print(i)\n",
    "print('Blastoff!')"
   ]
  },
  {
   "cell_type": "code",
   "execution_count": 15,
   "id": "605e334f-b106-450f-b142-f84c4e8d8468",
   "metadata": {},
   "outputs": [
    {
     "name": "stdout",
     "output_type": "stream",
     "text": [
      "Have a good day Pratibha\n",
      "Have a good day Tanu\n",
      "Have a good day Kusum\n",
      "Have a good day Sahil\n",
      "Have a good day Naadu\n",
      "DONE\n"
     ]
    }
   ],
   "source": [
    "friends = ['Pratibha','Tanu','Kusum','Sahil','Naadu']\n",
    "for friend in friends:\n",
    "    print('Have a good day',friend)\n",
    "print('DONE')"
   ]
  },
  {
   "cell_type": "markdown",
   "id": "73f0307e-1a22-4b73-b336-934b47f1295e",
   "metadata": {},
   "source": [
    "Finding the largest value"
   ]
  },
  {
   "cell_type": "code",
   "execution_count": 16,
   "id": "241cffea-75a8-4057-ab08-0116e57f8237",
   "metadata": {},
   "outputs": [
    {
     "name": "stdout",
     "output_type": "stream",
     "text": [
      "Initial latgest -1\n",
      "Largest so far 1\n",
      "Largest so far 43\n",
      "Largest so far 65\n",
      "Largest so far 878\n",
      "Largest so far 3443\n",
      "Largest so far 3443\n",
      "Largest so far 454566\n",
      "Largest no. is  454566\n"
     ]
    }
   ],
   "source": [
    "ini_largest = -1\n",
    "print('Initial latgest',ini_largest)\n",
    "for num in [1,43,65,878,3443,6,454566]:\n",
    "    if num > ini_largest:\n",
    "        ini_largest = num\n",
    "    print('Largest so far',ini_largest)\n",
    "print('Largest no. is ', ini_largest)"
   ]
  },
  {
   "cell_type": "markdown",
   "id": "f3488102-5a1d-4be1-b153-0924e4a89628",
   "metadata": {},
   "source": [
    "Counting in a loop"
   ]
  },
  {
   "cell_type": "code",
   "execution_count": 19,
   "id": "672b2a55-b1d1-471e-8fbb-68ed7bc65ea0",
   "metadata": {},
   "outputs": [
    {
     "name": "stdout",
     "output_type": "stream",
     "text": [
      "Before Loop 0\n",
      "1 2\n",
      "2 232\n",
      "3 5\n",
      "4 35\n",
      "5 46\n",
      "6 2\n",
      "7 6\n",
      "8 456\n",
      "9 46\n",
      "10 4\n",
      "11 4\n",
      "12 344\n",
      "13 343\n",
      "14 43\n",
      "15 4\n",
      "16 3\n",
      "no. of time loop runned 16\n"
     ]
    }
   ],
   "source": [
    "zork = 0\n",
    "print('Before Loop',zork)\n",
    "for t in [2,232,5,35,46,2,6,456,46,4,4,344,343,43,4,3]:\n",
    "    zork+=1\n",
    "    print(zork,t)\n",
    "print('no. of time loop runned',zork)"
   ]
  },
  {
   "cell_type": "markdown",
   "id": "fec5274d-3f5e-4cd5-b7fa-3ac1757d6ec3",
   "metadata": {},
   "source": [
    "Summing in a Loop"
   ]
  },
  {
   "cell_type": "code",
   "execution_count": 22,
   "id": "4fbfe923-18ab-406e-a2ab-d27cecdd8c63",
   "metadata": {},
   "outputs": [
    {
     "name": "stdout",
     "output_type": "stream",
     "text": [
      "2 2\n",
      "5 3\n",
      "39 34\n",
      "495 456\n",
      "518 23\n",
      "520 2\n",
      "524 4\n",
      "547 23\n",
      "579 32\n",
      "902 323\n",
      "934 32\n",
      "966 32\n",
      "998 32\n",
      "1343 345\n",
      "1396 53\n",
      "total is 1396\n"
     ]
    }
   ],
   "source": [
    "zork = 0\n",
    "for t in [2,3,34,456,23,2,4,23,32,323,32,32,32,345,53]:\n",
    "    zork +=t\n",
    "    print(zork,t)\n",
    "print(\"total is\",zork)"
   ]
  },
  {
   "cell_type": "markdown",
   "id": "f3603711-7019-4322-81ca-ba4d8b9e72ba",
   "metadata": {},
   "source": [
    "Finding average in a loop"
   ]
  },
  {
   "cell_type": "code",
   "execution_count": 23,
   "id": "d1f16593-7f2d-419c-954e-c899a2be945b",
   "metadata": {},
   "outputs": [
    {
     "name": "stdout",
     "output_type": "stream",
     "text": [
      "Count1 sum1 i = 1\n",
      "Count2 sum3 i = 2\n",
      "Count3 sum6 i = 3\n",
      "Count4 sum10 i = 4\n",
      "Count5 sum15 i = 5\n",
      "Count6 sum21 i = 6\n",
      "Count7 sum28 i = 7\n",
      "Count8 sum36 i = 8\n",
      "Count9 sum46 i = 10\n",
      "Count10 sum55 i = 9\n",
      "after 10 55 average =  5.5\n"
     ]
    }
   ],
   "source": [
    "count = 0\n",
    "zork = 0\n",
    "for i in [1,2,3,4,5,6,7,8,10,9]:\n",
    "    zork+=i\n",
    "    count+=1\n",
    "    print(f\"Count{count} sum{zork} i = {i}\")\n",
    "print('after',count,zork,'average = ',zork/count)"
   ]
  },
  {
   "cell_type": "markdown",
   "id": "0c73e7fe-9f23-4727-9fb3-b8de8d5064f7",
   "metadata": {},
   "source": [
    "Filtering in a Loop"
   ]
  },
  {
   "cell_type": "code",
   "execution_count": 25,
   "id": "0e1da687-cb63-4531-8ac6-df412744afc7",
   "metadata": {},
   "outputs": [
    {
     "name": "stdout",
     "output_type": "stream",
     "text": [
      "before\n",
      "Eligible 18\n",
      "Eligible 34\n",
      "Eligible 65\n",
      "Eligible 34\n",
      "Eligible 73\n",
      "Eligible 34.43\n",
      "afeter\n"
     ]
    }
   ],
   "source": [
    "print('before')\n",
    "for value in[1,2,5,6,8,3,18,34,65,34,73,34.43]:\n",
    "    if value>=18:\n",
    "        print('Eligible',value)\n",
    "print('afeter')"
   ]
  },
  {
   "cell_type": "markdown",
   "id": "4bd1a0b6-cdac-4272-a0fd-d50002302672",
   "metadata": {},
   "source": [
    "Search using boolean variable"
   ]
  },
  {
   "cell_type": "code",
   "execution_count": 27,
   "id": "a370fe3d-922e-44c8-ae04-6ea1e92b5144",
   "metadata": {},
   "outputs": [
    {
     "name": "stdout",
     "output_type": "stream",
     "text": [
      "before False\n",
      "True vansh\n",
      "True pratibha\n",
      "True tanu\n",
      "True kusum\n",
      "True mami\n",
      "True papa\n",
      "True etc\n",
      "after True\n"
     ]
    }
   ],
   "source": [
    "found = False\n",
    "print('before',found)\n",
    "for value in ['vansh','pratibha','tanu','kusum','mami','papa','etc']:\n",
    "    if value == 'vansh':\n",
    "        found = True\n",
    "        break\n",
    "    print(found,value)\n",
    "print('after',found)"
   ]
  },
  {
   "cell_type": "markdown",
   "id": "53fa2c11-482d-429a-a4ca-89199ebbb69f",
   "metadata": {},
   "source": [
    "Smallest Value"
   ]
  },
  {
   "cell_type": "code",
   "execution_count": 32,
   "id": "98248ca9-f6d9-405d-936e-7fc70d74c815",
   "metadata": {},
   "outputs": [
    {
     "name": "stdout",
     "output_type": "stream",
     "text": [
      "start\n",
      "34334 34334\n",
      "43 43\n",
      "43 65\n",
      "43 878\n",
      "43 3443\n",
      "6 6\n",
      "6 454566\n",
      "smallest no. is  6\n"
     ]
    }
   ],
   "source": [
    "ini_small = None\n",
    "print('start')\n",
    "for num in [34334,43,65,878,3443,6,454566]:\n",
    "    if ini_small is None:\n",
    "        ini_small = num\n",
    "    elif num < ini_small :\n",
    "        ini_small = num\n",
    "    print(ini_small , num)\n",
    "        \n",
    "print('smallest no. is ', ini_small)"
   ]
  },
  {
   "cell_type": "markdown",
   "id": "0535e02a-f82a-44b0-9e33-23e7d67158c3",
   "metadata": {},
   "source": [
    "#**Very Good Assignment Try IT Out 5.2**"
   ]
  },
  {
   "cell_type": "markdown",
   "id": "af596da1-6484-4702-a61d-9d9fa04c65af",
   "metadata": {},
   "source": [
    "Write a program that repeatedly prompts a user for integer numbers until the user enters 'done'.\n",
    "Once 'done' is entered, print out the largest and smallest of the numbers.\n",
    "If the user enters anything other than a valid number catch it with a try/except and put out an appropriate message and ignore the number.\n",
    "Enter 7, 2, bob, 10, and 4 and match the output below.\n",
    "                      **Desired Output**\n",
    "                      Invalid input\n",
    "Maximum is 10\n",
    "Minimum is 2\n",
    "                      "
   ]
  },
  {
   "cell_type": "code",
   "execution_count": 33,
   "id": "73481ab5-aba6-48b9-8606-f25733f25037",
   "metadata": {},
   "outputs": [
    {
     "name": "stdout",
     "output_type": "stream",
     "text": [
      "Enter an integer number or \"done\":  7\n",
      "Enter an integer number or \"done\":  2\n",
      "Enter an integer number or \"done\":  bob\n"
     ]
    },
    {
     "name": "stdout",
     "output_type": "stream",
     "text": [
      "Invalid input\n"
     ]
    },
    {
     "name": "stdout",
     "output_type": "stream",
     "text": [
      "Enter an integer number or \"done\":  10\n",
      "Enter an integer number or \"done\":  4\n",
      "Enter an integer number or \"done\":  done\n"
     ]
    },
    {
     "name": "stdout",
     "output_type": "stream",
     "text": [
      "Maximum is 10\n",
      "Minimum is 2\n"
     ]
    }
   ],
   "source": [
    "largest = None\n",
    "smallest = None\n",
    "while True:\n",
    "    num = input('Enter an integer number or \"done\": ')\n",
    "    \n",
    "    if num == 'done':\n",
    "        break\n",
    "        \n",
    "    try:  # Try to convert the user's input into a float.\n",
    "        num = float(num)\n",
    "    except ValueError:  \n",
    "        print(\"Invalid input\")\n",
    "        continue  # Skip this iteration and move on to the next number\n",
    "    \n",
    "    if largest is None or num > largest:\n",
    "        largest = num\n",
    "        \n",
    "    if smallest is None or num < smallest:\n",
    "        smallest = num\n",
    "        \n",
    "print('Maximum is', int(largest))\n",
    "print('Minimum is', int(smallest))\n"
   ]
  },
  {
   "cell_type": "code",
   "execution_count": null,
   "id": "1e5d7feb-e448-4c52-8465-d96fd8589d35",
   "metadata": {},
   "outputs": [],
   "source": []
  }
 ],
 "metadata": {
  "kernelspec": {
   "display_name": "Python 3 (ipykernel)",
   "language": "python",
   "name": "python3"
  },
  "language_info": {
   "codemirror_mode": {
    "name": "ipython",
    "version": 3
   },
   "file_extension": ".py",
   "mimetype": "text/x-python",
   "name": "python",
   "nbconvert_exporter": "python",
   "pygments_lexer": "ipython3",
   "version": "3.13.3"
  }
 },
 "nbformat": 4,
 "nbformat_minor": 5
}
